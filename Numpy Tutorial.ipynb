{
 "cells": [
  {
   "cell_type": "code",
   "execution_count": 1,
   "id": "aadd84d9",
   "metadata": {},
   "outputs": [],
   "source": [
    "import numpy as np \n",
    "import array"
   ]
  },
  {
   "cell_type": "code",
   "execution_count": 2,
   "id": "12b9721d",
   "metadata": {},
   "outputs": [
    {
     "data": {
      "text/plain": [
       "numpy.ndarray"
      ]
     },
     "execution_count": 2,
     "metadata": {},
     "output_type": "execute_result"
    }
   ],
   "source": [
    "type(np.array([1,2,3,4,5]))"
   ]
  },
  {
   "cell_type": "code",
   "execution_count": 4,
   "id": "3b72ab03",
   "metadata": {},
   "outputs": [
    {
     "data": {
      "text/plain": [
       "array([1, 2, 3, 4, 5])"
      ]
     },
     "execution_count": 4,
     "metadata": {},
     "output_type": "execute_result"
    }
   ],
   "source": [
    "np.array([1,2,3,4,5])"
   ]
  },
  {
   "cell_type": "code",
   "execution_count": 3,
   "id": "610029d4",
   "metadata": {},
   "outputs": [
    {
     "data": {
      "text/plain": [
       "array(['1', '2', '3', '4', '5', 'ansh', '(4+8j)'], dtype='<U64')"
      ]
     },
     "execution_count": 3,
     "metadata": {},
     "output_type": "execute_result"
    }
   ],
   "source": [
    "np.array([1,2,3,4,5,\"ansh\", 4+8j])"
   ]
  },
  {
   "cell_type": "code",
   "execution_count": 5,
   "id": "c58909fa",
   "metadata": {},
   "outputs": [
    {
     "data": {
      "text/plain": [
       "array([1. , 2. , 3. , 4. , 5.1])"
      ]
     },
     "execution_count": 5,
     "metadata": {},
     "output_type": "execute_result"
    }
   ],
   "source": [
    "np.array([1,2,3,4,5.1])"
   ]
  },
  {
   "cell_type": "markdown",
   "id": "dd486709",
   "metadata": {},
   "source": [
    "- Numpy converts int to float or string even if one of them is float/string."
   ]
  },
  {
   "cell_type": "code",
   "execution_count": 7,
   "id": "a59acda3",
   "metadata": {},
   "outputs": [
    {
     "data": {
      "text/plain": [
       "array([[1, 3],\n",
       "       [3, 4]])"
      ]
     },
     "execution_count": 7,
     "metadata": {},
     "output_type": "execute_result"
    }
   ],
   "source": [
    "np.array([[1,3], [3,4]])"
   ]
  },
  {
   "cell_type": "code",
   "execution_count": 8,
   "id": "61e95765",
   "metadata": {},
   "outputs": [
    {
     "data": {
      "text/plain": [
       "array([[1, 3],\n",
       "       [3, 4],\n",
       "       [6, 7]])"
      ]
     },
     "execution_count": 8,
     "metadata": {},
     "output_type": "execute_result"
    }
   ],
   "source": [
    "np.array([[1,3], [3,4], [6,7]])"
   ]
  },
  {
   "cell_type": "code",
   "execution_count": 9,
   "id": "efc78845",
   "metadata": {},
   "outputs": [
    {
     "data": {
      "text/plain": [
       "array([[[1, 2],\n",
       "        [3, 4]],\n",
       "\n",
       "       [[4, 5],\n",
       "        [6, 7]]])"
      ]
     },
     "execution_count": 9,
     "metadata": {},
     "output_type": "execute_result"
    }
   ],
   "source": [
    "np.array([[[1,2],[3,4]],[[4,5],[6,7]]])"
   ]
  },
  {
   "cell_type": "code",
   "execution_count": 10,
   "id": "0e998f33",
   "metadata": {},
   "outputs": [
    {
     "data": {
      "text/plain": [
       "array([1.+0.j, 2.+0.j, 3.+0.j])"
      ]
     },
     "execution_count": 10,
     "metadata": {},
     "output_type": "execute_result"
    }
   ],
   "source": [
    "np.array([1,2,3], dtype = complex) #Type conversion"
   ]
  },
  {
   "cell_type": "code",
   "execution_count": 17,
   "id": "45cf43e3",
   "metadata": {},
   "outputs": [
    {
     "data": {
      "text/plain": [
       "numpy.int32"
      ]
     },
     "execution_count": 17,
     "metadata": {},
     "output_type": "execute_result"
    }
   ],
   "source": [
    "arr = np.array([(1,2),(4,5)], dtype = [(\"a\",'<i4'),(\"b\", '<i8')])\n",
    "type(arr[0][0])"
   ]
  },
  {
   "cell_type": "code",
   "execution_count": 18,
   "id": "60dec0b7",
   "metadata": {},
   "outputs": [
    {
     "data": {
      "text/plain": [
       "numpy.int64"
      ]
     },
     "execution_count": 18,
     "metadata": {},
     "output_type": "execute_result"
    }
   ],
   "source": [
    "type(arr[0][1])"
   ]
  },
  {
   "cell_type": "code",
   "execution_count": 19,
   "id": "231350f8",
   "metadata": {},
   "outputs": [
    {
     "data": {
      "text/plain": [
       "matrix([[(1, 2), (4, 5)]], dtype=[('a', '<i4'), ('b', '<i8')])"
      ]
     },
     "execution_count": 19,
     "metadata": {},
     "output_type": "execute_result"
    }
   ],
   "source": [
    "np.mat(arr)"
   ]
  },
  {
   "cell_type": "code",
   "execution_count": 20,
   "id": "ef901e5a",
   "metadata": {},
   "outputs": [
    {
     "data": {
      "text/plain": [
       "array([(1, 2), (4, 5)], dtype=[('a', '<i4'), ('b', '<i8')])"
      ]
     },
     "execution_count": 20,
     "metadata": {},
     "output_type": "execute_result"
    }
   ],
   "source": [
    "np.asanyarray(arr)"
   ]
  },
  {
   "cell_type": "code",
   "execution_count": 21,
   "id": "fdb2fd97",
   "metadata": {},
   "outputs": [
    {
     "data": {
      "text/plain": [
       "False"
      ]
     },
     "execution_count": 21,
     "metadata": {},
     "output_type": "execute_result"
    }
   ],
   "source": [
    "issubclass(np.ndarray, np.matrix)"
   ]
  },
  {
   "cell_type": "code",
   "execution_count": 22,
   "id": "de0d313b",
   "metadata": {},
   "outputs": [
    {
     "data": {
      "text/plain": [
       "True"
      ]
     },
     "execution_count": 22,
     "metadata": {},
     "output_type": "execute_result"
    }
   ],
   "source": [
    "issubclass(np.matrix, np.ndarray)"
   ]
  },
  {
   "cell_type": "code",
   "execution_count": 27,
   "id": "e6613c6e",
   "metadata": {},
   "outputs": [],
   "source": [
    "arr = np.array([1,2,3,4,5])"
   ]
  },
  {
   "cell_type": "code",
   "execution_count": 28,
   "id": "d6cabb66",
   "metadata": {},
   "outputs": [],
   "source": [
    "a = arr"
   ]
  },
  {
   "cell_type": "code",
   "execution_count": 29,
   "id": "7b23600c",
   "metadata": {},
   "outputs": [],
   "source": [
    "b = np.copy(a)"
   ]
  },
  {
   "cell_type": "code",
   "execution_count": 31,
   "id": "c5f938e6",
   "metadata": {},
   "outputs": [],
   "source": [
    "arr[1] = 60"
   ]
  },
  {
   "cell_type": "code",
   "execution_count": 32,
   "id": "8e877b8a",
   "metadata": {},
   "outputs": [
    {
     "name": "stdout",
     "output_type": "stream",
     "text": [
      "[ 1 60  3  4  5] [1 2 3 4 5]\n"
     ]
    }
   ],
   "source": [
    "print(a,b)"
   ]
  },
  {
   "cell_type": "markdown",
   "id": "d7663004",
   "metadata": {},
   "source": [
    "- array are mutable and **shallow** Copy  = np.copy()"
   ]
  },
  {
   "cell_type": "code",
   "execution_count": 33,
   "id": "724ec3af",
   "metadata": {},
   "outputs": [
    {
     "data": {
      "text/plain": [
       "5"
      ]
     },
     "execution_count": 33,
     "metadata": {},
     "output_type": "execute_result"
    }
   ],
   "source": [
    "arr[-1]"
   ]
  },
  {
   "cell_type": "code",
   "execution_count": 34,
   "id": "1a84a6d8",
   "metadata": {},
   "outputs": [
    {
     "name": "stdout",
     "output_type": "stream",
     "text": [
      "1\n",
      "60\n",
      "3\n",
      "4\n",
      "5\n"
     ]
    }
   ],
   "source": [
    "for i in arr:\n",
    "    print(i)"
   ]
  },
  {
   "cell_type": "code",
   "execution_count": 35,
   "id": "89e6493f",
   "metadata": {},
   "outputs": [
    {
     "name": "stderr",
     "output_type": "stream",
     "text": [
      "/var/folders/xp/jy5j7tmd2c7bsktzm4pdpxm40000gn/T/ipykernel_54754/2105401307.py:1: RuntimeWarning: divide by zero encountered in divide\n",
      "  np.fromfunction(lambda i,j: i/j, (3,3))\n",
      "/var/folders/xp/jy5j7tmd2c7bsktzm4pdpxm40000gn/T/ipykernel_54754/2105401307.py:1: RuntimeWarning: invalid value encountered in divide\n",
      "  np.fromfunction(lambda i,j: i/j, (3,3))\n"
     ]
    },
    {
     "data": {
      "text/plain": [
       "array([[nan, 0. , 0. ],\n",
       "       [inf, 1. , 0.5],\n",
       "       [inf, 2. , 1. ]])"
      ]
     },
     "execution_count": 35,
     "metadata": {},
     "output_type": "execute_result"
    }
   ],
   "source": [
    "np.fromfunction(lambda i,j: i/j, (3,3))"
   ]
  },
  {
   "cell_type": "code",
   "execution_count": 36,
   "id": "21087109",
   "metadata": {},
   "outputs": [
    {
     "data": {
      "text/plain": [
       "array([[0., 1., 2.],\n",
       "       [1., 2., 3.],\n",
       "       [2., 3., 4.]])"
      ]
     },
     "execution_count": 36,
     "metadata": {},
     "output_type": "execute_result"
    }
   ],
   "source": [
    "np.fromfunction(lambda i,j: i+j, (3,3))"
   ]
  },
  {
   "cell_type": "code",
   "execution_count": 40,
   "id": "24d1053a",
   "metadata": {},
   "outputs": [
    {
     "name": "stdout",
     "output_type": "stream",
     "text": [
      "[0, 2, 4, 6, 8]\n"
     ]
    }
   ],
   "source": [
    "a=[i+i for i in range(5)]\n",
    "print(a)"
   ]
  },
  {
   "cell_type": "code",
   "execution_count": 43,
   "id": "6535e0b0",
   "metadata": {},
   "outputs": [
    {
     "data": {
      "text/plain": [
       "<generator object <genexpr> at 0x11751f1d0>"
      ]
     },
     "execution_count": 43,
     "metadata": {},
     "output_type": "execute_result"
    }
   ],
   "source": [
    "(i+i for i in range(5))"
   ]
  },
  {
   "cell_type": "code",
   "execution_count": 45,
   "id": "e5da973f",
   "metadata": {},
   "outputs": [],
   "source": [
    "def test(x):\n",
    "    yield x"
   ]
  },
  {
   "cell_type": "code",
   "execution_count": 46,
   "id": "2b96b78e",
   "metadata": {},
   "outputs": [
    {
     "data": {
      "text/plain": [
       "<generator object test at 0x117a00c40>"
      ]
     },
     "execution_count": 46,
     "metadata": {},
     "output_type": "execute_result"
    }
   ],
   "source": [
    "test(5)"
   ]
  },
  {
   "cell_type": "markdown",
   "id": "e68dc9b1",
   "metadata": {},
   "source": [
    "- range is also a generator function"
   ]
  },
  {
   "cell_type": "code",
   "execution_count": 47,
   "id": "73e3c151",
   "metadata": {},
   "outputs": [
    {
     "data": {
      "text/plain": [
       "array([0, 1, 2, 3, 4])"
      ]
     },
     "execution_count": 47,
     "metadata": {},
     "output_type": "execute_result"
    }
   ],
   "source": [
    "np.fromiter(range(5), dtype=int)"
   ]
  },
  {
   "cell_type": "code",
   "execution_count": 52,
   "id": "a0efddc6",
   "metadata": {},
   "outputs": [
    {
     "data": {
      "text/plain": [
       "array([1., 2., 3., 5.])"
      ]
     },
     "execution_count": 52,
     "metadata": {},
     "output_type": "execute_result"
    }
   ],
   "source": [
    "np.fromstring('1 2 3 5', sep=' ')"
   ]
  },
  {
   "cell_type": "code",
   "execution_count": 59,
   "id": "e5df2b57",
   "metadata": {},
   "outputs": [
    {
     "data": {
      "text/plain": [
       "array([12, 35])"
      ]
     },
     "execution_count": 59,
     "metadata": {},
     "output_type": "execute_result"
    }
   ],
   "source": [
    "np.fromstring('12,35', sep=',', dtype=int)"
   ]
  },
  {
   "cell_type": "code",
   "execution_count": 61,
   "id": "b2dbeb8c",
   "metadata": {},
   "outputs": [
    {
     "data": {
      "text/plain": [
       "numpy.ndarray"
      ]
     },
     "execution_count": 61,
     "metadata": {},
     "output_type": "execute_result"
    }
   ],
   "source": [
    "l = [1,2,3,4,5,6,7,8]\n",
    "arr = np.array(l)\n",
    "type(arr)"
   ]
  },
  {
   "cell_type": "code",
   "execution_count": 63,
   "id": "be2deed5",
   "metadata": {},
   "outputs": [
    {
     "data": {
      "text/plain": [
       "numpy.ndarray"
      ]
     },
     "execution_count": 63,
     "metadata": {},
     "output_type": "execute_result"
    }
   ],
   "source": [
    "l = [[1,2,3],[4,5,6],[7,8,0]]\n",
    "arr1 = np.array(l)\n",
    "type(arr1)"
   ]
  },
  {
   "cell_type": "code",
   "execution_count": 67,
   "id": "dd3a0c0e",
   "metadata": {},
   "outputs": [
    {
     "data": {
      "text/plain": [
       "2"
      ]
     },
     "execution_count": 67,
     "metadata": {},
     "output_type": "execute_result"
    }
   ],
   "source": [
    "arr1.ndim #Dimension of array"
   ]
  },
  {
   "cell_type": "code",
   "execution_count": 68,
   "id": "17f44c54",
   "metadata": {},
   "outputs": [
    {
     "data": {
      "text/plain": [
       "1"
      ]
     },
     "execution_count": 68,
     "metadata": {},
     "output_type": "execute_result"
    }
   ],
   "source": [
    "arr.ndim"
   ]
  },
  {
   "cell_type": "code",
   "execution_count": 69,
   "id": "207ea172",
   "metadata": {},
   "outputs": [
    {
     "data": {
      "text/plain": [
       "(3, 3)"
      ]
     },
     "execution_count": 69,
     "metadata": {},
     "output_type": "execute_result"
    }
   ],
   "source": [
    "arr1.shape"
   ]
  },
  {
   "cell_type": "code",
   "execution_count": 70,
   "id": "05bb3fe3",
   "metadata": {},
   "outputs": [
    {
     "data": {
      "text/plain": [
       "9"
      ]
     },
     "execution_count": 70,
     "metadata": {},
     "output_type": "execute_result"
    }
   ],
   "source": [
    "arr1.size"
   ]
  },
  {
   "cell_type": "code",
   "execution_count": 71,
   "id": "c7941bb8",
   "metadata": {},
   "outputs": [
    {
     "data": {
      "text/plain": [
       "array([0., 1., 2., 3., 4., 5.])"
      ]
     },
     "execution_count": 71,
     "metadata": {},
     "output_type": "execute_result"
    }
   ],
   "source": [
    "np.arange(5.1) #for float"
   ]
  },
  {
   "cell_type": "code",
   "execution_count": 72,
   "id": "baafdbd5",
   "metadata": {},
   "outputs": [
    {
     "data": {
      "text/plain": [
       "array([1.        , 1.02040816, 1.04081633, 1.06122449, 1.08163265,\n",
       "       1.10204082, 1.12244898, 1.14285714, 1.16326531, 1.18367347,\n",
       "       1.20408163, 1.2244898 , 1.24489796, 1.26530612, 1.28571429,\n",
       "       1.30612245, 1.32653061, 1.34693878, 1.36734694, 1.3877551 ,\n",
       "       1.40816327, 1.42857143, 1.44897959, 1.46938776, 1.48979592,\n",
       "       1.51020408, 1.53061224, 1.55102041, 1.57142857, 1.59183673,\n",
       "       1.6122449 , 1.63265306, 1.65306122, 1.67346939, 1.69387755,\n",
       "       1.71428571, 1.73469388, 1.75510204, 1.7755102 , 1.79591837,\n",
       "       1.81632653, 1.83673469, 1.85714286, 1.87755102, 1.89795918,\n",
       "       1.91836735, 1.93877551, 1.95918367, 1.97959184, 2.        ])"
      ]
     },
     "execution_count": 72,
     "metadata": {},
     "output_type": "execute_result"
    }
   ],
   "source": [
    "np.linspace(1,2)"
   ]
  },
  {
   "cell_type": "code",
   "execution_count": 74,
   "id": "3e2d368a",
   "metadata": {},
   "outputs": [
    {
     "data": {
      "text/plain": [
       "array([1.  , 1.25, 1.5 , 1.75, 2.  ])"
      ]
     },
     "execution_count": 74,
     "metadata": {},
     "output_type": "execute_result"
    }
   ],
   "source": [
    "np.linspace(1,2,5) # 5 sections on number line between 1 and 2 in gaussian distribution"
   ]
  },
  {
   "cell_type": "markdown",
   "id": "d89bc72b",
   "metadata": {},
   "source": [
    "- 5 sections on number line between 1 and 2 in gaussian distribution\n",
    "- By default: 50"
   ]
  },
  {
   "cell_type": "code",
   "execution_count": 75,
   "id": "d9567b42",
   "metadata": {},
   "outputs": [
    {
     "data": {
      "text/plain": [
       "array([0., 0., 0., 0., 0.])"
      ]
     },
     "execution_count": 75,
     "metadata": {},
     "output_type": "execute_result"
    }
   ],
   "source": [
    "np.zeros(5)"
   ]
  },
  {
   "cell_type": "code",
   "execution_count": 77,
   "id": "69f36622",
   "metadata": {},
   "outputs": [
    {
     "data": {
      "text/plain": [
       "array([[0., 0., 0.],\n",
       "       [0., 0., 0.],\n",
       "       [0., 0., 0.]])"
      ]
     },
     "execution_count": 77,
     "metadata": {},
     "output_type": "execute_result"
    }
   ],
   "source": [
    "np.zeros((3,3))"
   ]
  },
  {
   "cell_type": "code",
   "execution_count": 78,
   "id": "eaa96f56",
   "metadata": {},
   "outputs": [
    {
     "data": {
      "text/plain": [
       "array([[[0., 0., 0., 0.],\n",
       "        [0., 0., 0., 0.],\n",
       "        [0., 0., 0., 0.],\n",
       "        [0., 0., 0., 0.],\n",
       "        [0., 0., 0., 0.]],\n",
       "\n",
       "       [[0., 0., 0., 0.],\n",
       "        [0., 0., 0., 0.],\n",
       "        [0., 0., 0., 0.],\n",
       "        [0., 0., 0., 0.],\n",
       "        [0., 0., 0., 0.]]])"
      ]
     },
     "execution_count": 78,
     "metadata": {},
     "output_type": "execute_result"
    }
   ],
   "source": [
    "np.zeros((2,5,4)) # 3D Array"
   ]
  },
  {
   "cell_type": "code",
   "execution_count": 79,
   "id": "a37513e4",
   "metadata": {},
   "outputs": [
    {
     "data": {
      "text/plain": [
       "array([[[1., 1., 1.],\n",
       "        [1., 1., 1.],\n",
       "        [1., 1., 1.]],\n",
       "\n",
       "       [[1., 1., 1.],\n",
       "        [1., 1., 1.],\n",
       "        [1., 1., 1.]],\n",
       "\n",
       "       [[1., 1., 1.],\n",
       "        [1., 1., 1.],\n",
       "        [1., 1., 1.]]])"
      ]
     },
     "execution_count": 79,
     "metadata": {},
     "output_type": "execute_result"
    }
   ],
   "source": [
    "np.ones((3,3,3))"
   ]
  },
  {
   "cell_type": "code",
   "execution_count": 80,
   "id": "173fab02",
   "metadata": {},
   "outputs": [
    {
     "data": {
      "text/plain": [
       "array([0., 0., 0., 0., 0.])"
      ]
     },
     "execution_count": 80,
     "metadata": {},
     "output_type": "execute_result"
    }
   ],
   "source": [
    "np.empty(5)"
   ]
  },
  {
   "cell_type": "code",
   "execution_count": 81,
   "id": "55dd8e00",
   "metadata": {},
   "outputs": [
    {
     "data": {
      "text/plain": [
       "array([[0., 0., 0., 0.],\n",
       "       [0., 0., 0., 0.],\n",
       "       [0., 0., 0., 0.]])"
      ]
     },
     "execution_count": 81,
     "metadata": {},
     "output_type": "execute_result"
    }
   ],
   "source": [
    "np.empty((3,4))"
   ]
  },
  {
   "cell_type": "code",
   "execution_count": 82,
   "id": "487e9ed8",
   "metadata": {},
   "outputs": [
    {
     "data": {
      "text/plain": [
       "array([[[0., 0., 0.],\n",
       "        [0., 0., 0.],\n",
       "        [0., 0., 0.],\n",
       "        [0., 0., 0.]],\n",
       "\n",
       "       [[0., 0., 0.],\n",
       "        [0., 0., 0.],\n",
       "        [0., 0., 0.],\n",
       "        [0., 0., 0.]],\n",
       "\n",
       "       [[0., 0., 0.],\n",
       "        [0., 0., 0.],\n",
       "        [0., 0., 0.],\n",
       "        [0., 0., 0.]]])"
      ]
     },
     "execution_count": 82,
     "metadata": {},
     "output_type": "execute_result"
    }
   ],
   "source": [
    "np.empty((3,4,3))"
   ]
  },
  {
   "cell_type": "code",
   "execution_count": 85,
   "id": "5b53d9d0",
   "metadata": {},
   "outputs": [
    {
     "data": {
      "text/plain": [
       "array([[1., 0., 0., 0.],\n",
       "       [0., 1., 0., 0.],\n",
       "       [0., 0., 1., 0.],\n",
       "       [0., 0., 0., 1.]])"
      ]
     },
     "execution_count": 85,
     "metadata": {},
     "output_type": "execute_result"
    }
   ],
   "source": [
    "np.eye(4) # Identity Matrix"
   ]
  },
  {
   "cell_type": "code",
   "execution_count": 91,
   "id": "e6c2e04f",
   "metadata": {},
   "outputs": [
    {
     "data": {
      "text/plain": [
       "array([2. , 2.4, 2.8, 3.2, 3.6])"
      ]
     },
     "execution_count": 91,
     "metadata": {},
     "output_type": "execute_result"
    }
   ],
   "source": [
    "np.linspace(start=2, stop=4, num=5, endpoint=False, axis=0)"
   ]
  },
  {
   "cell_type": "code",
   "execution_count": 98,
   "id": "9ce53e98",
   "metadata": {},
   "outputs": [
    {
     "data": {
      "text/plain": [
       "array([[2. , 4. , 3. , 5. ],\n",
       "       [2.6, 4.2, 3.4, 5. ],\n",
       "       [3.2, 4.4, 3.8, 5. ],\n",
       "       [3.8, 4.6, 4.2, 5. ],\n",
       "       [4.4, 4.8, 4.6, 5. ]])"
      ]
     },
     "execution_count": 98,
     "metadata": {},
     "output_type": "execute_result"
    }
   ],
   "source": [
    "np.linspace(start = [2,4,3,5],stop = 5, num=5, endpoint=False, axis=0)"
   ]
  },
  {
   "cell_type": "code",
   "execution_count": 99,
   "id": "70a36a39",
   "metadata": {},
   "outputs": [
    {
     "data": {
      "text/plain": [
       "array([ 100.        ,  215.443469  ,  464.15888336, 1000.        ])"
      ]
     },
     "execution_count": 99,
     "metadata": {},
     "output_type": "execute_result"
    }
   ],
   "source": [
    "np.logspace(2,3,4)"
   ]
  },
  {
   "cell_type": "code",
   "execution_count": 104,
   "id": "f5baa90a",
   "metadata": {},
   "outputs": [
    {
     "data": {
      "text/plain": [
       "1"
      ]
     },
     "execution_count": 104,
     "metadata": {},
     "output_type": "execute_result"
    }
   ],
   "source": [
    "d = np.logspace(1,3,5, endpoint=False)\n",
    "d.ndim"
   ]
  },
  {
   "cell_type": "code",
   "execution_count": 105,
   "id": "1d2321f5",
   "metadata": {},
   "outputs": [
    {
     "data": {
      "text/plain": [
       "(5,)"
      ]
     },
     "execution_count": 105,
     "metadata": {},
     "output_type": "execute_result"
    }
   ],
   "source": [
    "d.shape"
   ]
  },
  {
   "cell_type": "code",
   "execution_count": 107,
   "id": "d0839fd9",
   "metadata": {},
   "outputs": [
    {
     "data": {
      "text/plain": [
       "array([[ 10.        ],\n",
       "       [ 25.11886432],\n",
       "       [ 63.09573445],\n",
       "       [158.48931925],\n",
       "       [398.10717055]])"
      ]
     },
     "execution_count": 107,
     "metadata": {},
     "output_type": "execute_result"
    }
   ],
   "source": [
    "d.reshape(5,1)"
   ]
  },
  {
   "cell_type": "markdown",
   "id": "dfc179f3",
   "metadata": {},
   "source": [
    "- Used mostly to reshape arrays/Dataframes."
   ]
  },
  {
   "cell_type": "code",
   "execution_count": 109,
   "id": "5662cd8a",
   "metadata": {},
   "outputs": [
    {
     "data": {
      "text/plain": [
       "array([[ 10.        ,  25.11886432,  63.09573445, 158.48931925,\n",
       "        398.10717055]])"
      ]
     },
     "execution_count": 109,
     "metadata": {},
     "output_type": "execute_result"
    }
   ],
   "source": [
    "d.reshape(1,5)"
   ]
  },
  {
   "cell_type": "code",
   "execution_count": 110,
   "id": "e5139e9a",
   "metadata": {},
   "outputs": [
    {
     "data": {
      "text/plain": [
       "array([0.53659502, 0.5871061 , 0.56662104])"
      ]
     },
     "execution_count": 110,
     "metadata": {},
     "output_type": "execute_result"
    }
   ],
   "source": [
    "np.random.rand(3)"
   ]
  },
  {
   "cell_type": "code",
   "execution_count": 119,
   "id": "aa080c32",
   "metadata": {},
   "outputs": [
    {
     "data": {
      "text/plain": [
       "array([[[-0.20882395,  0.2176581 , -0.49736977],\n",
       "        [-1.35049883, -1.34021961,  1.89905781]],\n",
       "\n",
       "       [[-1.88905485,  0.52349763,  0.49293234],\n",
       "        [-0.11301578, -0.74679406,  0.12883732]]])"
      ]
     },
     "execution_count": 119,
     "metadata": {},
     "output_type": "execute_result"
    }
   ],
   "source": [
    "np.random.randn(2,2,3)"
   ]
  },
  {
   "cell_type": "markdown",
   "id": "eb0917a7",
   "metadata": {},
   "source": [
    "- randn - generates data based on standard normal distribution.\n",
    "- rand - generates data based on uniform distribution."
   ]
  },
  {
   "cell_type": "code",
   "execution_count": 121,
   "id": "3f278d0d",
   "metadata": {},
   "outputs": [
    {
     "data": {
      "text/plain": [
       "array([[49, 11, 46],\n",
       "       [ 8, 34, 18],\n",
       "       [20, 45, 15]])"
      ]
     },
     "execution_count": 121,
     "metadata": {},
     "output_type": "execute_result"
    }
   ],
   "source": [
    "a = np.random.randint(1,50, (3,3))\n",
    "a"
   ]
  },
  {
   "cell_type": "code",
   "execution_count": 123,
   "id": "d7cfd733",
   "metadata": {},
   "outputs": [
    {
     "data": {
      "text/plain": [
       "array([[49, 11, 46,  8, 34, 18, 20, 45, 15]])"
      ]
     },
     "execution_count": 123,
     "metadata": {},
     "output_type": "execute_result"
    }
   ],
   "source": [
    "a.reshape(1,9) # can also write -1 in place of 9 and it will do the same thing"
   ]
  },
  {
   "cell_type": "code",
   "execution_count": 124,
   "id": "7b630bc6",
   "metadata": {},
   "outputs": [
    {
     "data": {
      "text/plain": [
       "8"
      ]
     },
     "execution_count": 124,
     "metadata": {},
     "output_type": "execute_result"
    }
   ],
   "source": [
    "a.min()"
   ]
  },
  {
   "cell_type": "code",
   "execution_count": 125,
   "id": "6b94a98e",
   "metadata": {},
   "outputs": [
    {
     "data": {
      "text/plain": [
       "49"
      ]
     },
     "execution_count": 125,
     "metadata": {},
     "output_type": "execute_result"
    }
   ],
   "source": [
    "a.max()"
   ]
  },
  {
   "cell_type": "code",
   "execution_count": 127,
   "id": "8e3bf2e2",
   "metadata": {},
   "outputs": [
    {
     "data": {
      "text/plain": [
       "array([[17, 30, 13, 13],\n",
       "       [29,  2, 12, 41],\n",
       "       [24, 33, 32, 40],\n",
       "       [22, 47, 15,  7]])"
      ]
     },
     "execution_count": 127,
     "metadata": {},
     "output_type": "execute_result"
    }
   ],
   "source": [
    "arr = np.random.randint(1,50, (4,4))\n",
    "arr"
   ]
  },
  {
   "cell_type": "code",
   "execution_count": 129,
   "id": "f68bc8a9",
   "metadata": {},
   "outputs": [
    {
     "data": {
      "text/plain": [
       "array([[32, 40],\n",
       "       [15,  7]])"
      ]
     },
     "execution_count": 129,
     "metadata": {},
     "output_type": "execute_result"
    }
   ],
   "source": [
    "# Print 32 to 7\n",
    "arr[2:,2:]"
   ]
  },
  {
   "cell_type": "code",
   "execution_count": 140,
   "id": "ace99f03",
   "metadata": {},
   "outputs": [
    {
     "data": {
      "text/plain": [
       "array([[30, 13],\n",
       "       [ 2, 41],\n",
       "       [33, 40],\n",
       "       [47,  7]])"
      ]
     },
     "execution_count": 140,
     "metadata": {},
     "output_type": "execute_result"
    }
   ],
   "source": [
    "# Print 2nd and last col\n",
    "arr[:,(1,3)]"
   ]
  },
  {
   "cell_type": "code",
   "execution_count": 144,
   "id": "7fcf3543",
   "metadata": {},
   "outputs": [
    {
     "data": {
      "text/plain": [
       "[17, 2, 32, 7]"
      ]
     },
     "execution_count": 144,
     "metadata": {},
     "output_type": "execute_result"
    }
   ],
   "source": [
    "# Print the diagonal\n",
    "[arr[i,i] for i in range(arr.shape[0])]"
   ]
  },
  {
   "cell_type": "code",
   "execution_count": 145,
   "id": "427e22e6",
   "metadata": {},
   "outputs": [
    {
     "data": {
      "text/plain": [
       "array([[ 289,  900,  169,  169],\n",
       "       [ 841,    4,  144, 1681],\n",
       "       [ 576, 1089, 1024, 1600],\n",
       "       [ 484, 2209,  225,   49]])"
      ]
     },
     "execution_count": 145,
     "metadata": {},
     "output_type": "execute_result"
    }
   ],
   "source": [
    "arr*arr"
   ]
  },
  {
   "cell_type": "code",
   "execution_count": 147,
   "id": "c9cb6413",
   "metadata": {},
   "outputs": [
    {
     "data": {
      "text/plain": [
       "array([[1757, 1610, 1192, 2062],\n",
       "       [1741, 3197, 1400, 1226],\n",
       "       [3013, 3722, 2332, 3225],\n",
       "       [2251, 1578, 1435, 2862]])"
      ]
     },
     "execution_count": 147,
     "metadata": {},
     "output_type": "execute_result"
    }
   ],
   "source": [
    "arr@arr # Matrix multiplication"
   ]
  },
  {
   "cell_type": "code",
   "execution_count": 148,
   "id": "d8336ecc",
   "metadata": {},
   "outputs": [
    {
     "data": {
      "text/plain": [
       "array([[ 289,  900,  169,  169],\n",
       "       [ 841,    4,  144, 1681],\n",
       "       [ 576, 1089, 1024, 1600],\n",
       "       [ 484, 2209,  225,   49]])"
      ]
     },
     "execution_count": 148,
     "metadata": {},
     "output_type": "execute_result"
    }
   ],
   "source": [
    "arr**2 # Square"
   ]
  },
  {
   "cell_type": "code",
   "execution_count": 152,
   "id": "98ca94b8",
   "metadata": {},
   "outputs": [
    {
     "name": "stdout",
     "output_type": "stream",
     "text": [
      "[[0. 0. 0. 0.]\n",
      " [0. 0. 0. 0.]\n",
      " [0. 0. 0. 0.]] \n",
      "\n",
      " [1 2 3 6] \n",
      "\n",
      " [[1. 2. 3. 6.]\n",
      " [1. 2. 3. 6.]\n",
      " [1. 2. 3. 6.]]\n"
     ]
    }
   ],
   "source": [
    "a1 = np.zeros((3,4))  # Broadcasting\n",
    "a2 = np.array([1,2,3,6])\n",
    "print(a1,\"\\n\\n\", a2,\"\\n\\n\", a1+a2)"
   ]
  },
  {
   "cell_type": "code",
   "execution_count": 153,
   "id": "71acd385",
   "metadata": {},
   "outputs": [
    {
     "data": {
      "text/plain": [
       "array([[0., 0., 0.],\n",
       "       [0., 0., 0.],\n",
       "       [0., 0., 0.],\n",
       "       [0., 0., 0.]])"
      ]
     },
     "execution_count": 153,
     "metadata": {},
     "output_type": "execute_result"
    }
   ],
   "source": [
    "a1.T # Transpose"
   ]
  },
  {
   "cell_type": "code",
   "execution_count": 154,
   "id": "69a895be",
   "metadata": {},
   "outputs": [],
   "source": [
    "np.random.seed(1) # Set a seed"
   ]
  }
 ],
 "metadata": {
  "kernelspec": {
   "display_name": "Python 3 (ipykernel)",
   "language": "python",
   "name": "python3"
  },
  "language_info": {
   "codemirror_mode": {
    "name": "ipython",
    "version": 3
   },
   "file_extension": ".py",
   "mimetype": "text/x-python",
   "name": "python",
   "nbconvert_exporter": "python",
   "pygments_lexer": "ipython3",
   "version": "3.11.5"
  }
 },
 "nbformat": 4,
 "nbformat_minor": 5
}
